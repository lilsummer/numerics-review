{
 "cells": [
  {
   "cell_type": "markdown",
   "metadata": {},
   "source": [
    "# Review-08-Numerical-Integration-and-Differentiation"
   ]
  },
  {
   "cell_type": "markdown",
   "metadata": {},
   "source": [
    "Answers to review questions from Chapter 8: Numerical Integration and Differentiation <cite data-cite=\"heath2018scientific\">(Heath, 2018)</cite>.\n",
    "\n",
    "---\n",
    "Questions marked with $\\bigtriangledown$ are considered more difficult."
   ]
  },
  {
   "cell_type": "markdown",
   "metadata": {},
   "source": [
    "> 8.1. True or false: Evaluating a definite integral is always a well-conditioned problem.\n",
    "\n",
    "True.  Integration is a smoothing operation and always well-conditioned."
   ]
  },
  {
   "cell_type": "markdown",
   "metadata": {},
   "source": [
    "> 8.2. True or false: Because it is based on polyno- mial interpolation of degree one higher, the trape- zoid rule is generally more accurate than the mid- point rule.\n",
    "\n",
    "False. The midpoint rule is twice as accurate as the trapezoid rule due to the fact that the midpoint rule $(n=1)$ is an odd function and as a result the positive and negative errors cancel. "
   ]
  },
  {
   "cell_type": "markdown",
   "metadata": {},
   "source": [
    "> 8.3. True or false: The degree of a quadrature rule is the degree of the interpolating polynomial on which the rule is based.\n",
    "\n",
    "False.  The degree of a Newton-Cotes quadrature rule depends upon whether the function is even or odd.  An n-point Newton-Cotes rule is of degree $n-1$ if n is even (example: Trapezoid rule), but of degree $n$ if n is odd (example: Midpoint rule)."
   ]
  },
  {
   "cell_type": "markdown",
   "metadata": {},
   "source": [
    "> 8.4. True or false: An n-point Newton-Cotes quadrature rule is always of degree n − 1.\n",
    "\n",
    "False. Counterexample: degree is $n$ if n is odd (example: Midpoint rule)."
   ]
  },
  {
   "cell_type": "markdown",
   "metadata": {},
   "source": [
    "> 8.5. True or false: Gaussian quadrature rules of different orders never have any points in common.\n",
    "\n",
    "False.  If $m$ and $n$ are odd, then midpoint for any two Gaussian quadrature rules $G_m$ and $G_n$ will be the same.  Apart from this exception, any two Gaussian quadrature rules $G_m$ and $G_n$ of different order will not have any nodes in common."
   ]
  },
  {
   "cell_type": "markdown",
   "metadata": {},
   "source": [
    "$\\bigtriangledown$\n",
    "\n",
    "> 8.6. What conditions are both necessary and sufficient for a Riemann integral to exist?\n",
    "\n",
    "The function must be:\n",
    "\n",
    "1. continuous on the interval $[a, b]$ (exception: \"set of measure zero\")\n",
    "2. bounded"
   ]
  },
  {
   "cell_type": "markdown",
   "metadata": {},
   "source": [
    "> 8.7. (a) Under what conditions is a definite in- tegral likely to be sensitive to small perturbations in the integrand? (b) Under what conditions is a definite integral likely to be sensitive to small perturbations in the limits of integration?\n",
    "\n",
    "(a) Definite integral is likely to be sensitive to perturbations in integrand when the length between the limits of integration ($b-a$) is large.\n",
    "\n",
    "(b) Definite integral is likely to be sensitive to perturbations in limits of integration when there is singularity in the integrand near those limits."
   ]
  },
  {
   "cell_type": "markdown",
   "metadata": {},
   "source": [
    "> 8.8. What is the difference between an open quadrature rule and a closed quadrature rule?\n",
    "\n",
    "An open quadrature rule does not include the endpoints in the rule.  For example, the midpoint rule is **open**.\n",
    "$$\n",
    "M(f) = (b-a) f \\left( \\frac{a+b}{2} \\right)\n",
    "$$\n",
    "\n",
    "In contrast, a closed quadrature rule does include the endpoints in the rule.  For example, the trapezoid rule is **closed**.\n",
    "$$\n",
    "T(f) = \\frac{b-a}{2} \\left( f(a) + f(b) \\right)\n",
    "$$"
   ]
  },
  {
   "cell_type": "markdown",
   "metadata": {},
   "source": [
    "> 8.9. Name two different methods for computing the weights corresponding to a given set of nodes of a quadrature rule.\n",
    "\n",
    "1. Method of Undetermined Coefficients .\n",
    "2. Polynomial Interpolation."
   ]
  },
  {
   "cell_type": "markdown",
   "metadata": {},
   "source": [
    "$\\bigtriangledown$\n",
    "\n",
    "> 8.10. How can you estimate the error in a quadrature rule without computing the deriva-tives of the integrand function that would be re-quired by a Taylor series expansion?\n",
    "\n",
    "Compare the difference in the results obtained for the same integrand using two different rules.  One of the two rules will always be considered base and thus can be used to obtain the result of the second by increasing the number of points (eg degree) or subdividing the interval.\n",
    "\n",
    "This method is used by some methods of integration such as Gauss-Kronrod rules to provide an error estimate."
   ]
  },
  {
   "cell_type": "markdown",
   "metadata": {},
   "source": [
    "> 8.11. (a) How does the node placement differ be- tween Newton-Cotes quadrature and Clenshaw- Curtis quadrature? (b) Which would you expect to be more accurate for the same number of nodes? Why?\n",
    "\n",
    "(a) Newton-Cotes rules use equally spaced nodes and Clenshaw-Curtis uses nodes spaced at the Chebyshev points.\n",
    "\n",
    "(b) For interpolation the Chebyshev points distribute the error more evenly, resulting in smaller errors at the extrema.  As a result, I would expect Clenshaw-Curtis to be more accurate than Newton-Cotes for the same number of nodes."
   ]
  },
  {
   "cell_type": "markdown",
   "metadata": {},
   "source": [
    "> 8.12. (a) How does the node placement differ between Newton-Cotes quadrature and Gaussian quadrature? (b) Which would you expect to be more accurate for the same number of nodes? Why?\n",
    "\n",
    "(a) Newton-Cotes rules use equally spaced nodes and for Gaussian Quadrature the nodes are chosen to maximize the degree.\n",
    "\n",
    "(b) Gaussian quadrature rules have the highest possible accuracy for the number of nodes used and thus expect them to be more accurate than Newton-Cotes."
   ]
  },
  {
   "cell_type": "markdown",
   "metadata": {},
   "source": [
    "$\\bigtriangledown$\n",
    "\n",
    "> 8.13. (a) If a quadrature rule for an interval $[a, b]$ is based on polynomial interpolation at n equally spaced points in the interval, what is the highest degree such that the rule integrates all polynomi- als of that degree exactly? (b) How would your answer change if the points were optimally placed to integrate the highest pos- sible degree polynomials exactly?\n",
    "\n",
    "(a) If a quadrature rule is based on polynomial interpolation at n equally spaced points (example: Newton-Cotes), then it integrates any polynomial of degree at most $n-1$ exactly.\n",
    "\n",
    "(b) If the nodes are optimally placed (example: Gaussian quadrature) to maximize the degree of the polynomial, then we need fewer nodes, perhaps $n/2$, to integrate a polynomial of at most $n-1$ exactly."
   ]
  },
  {
   "cell_type": "markdown",
   "metadata": {},
   "source": [
    "$\\bigtriangledown$\n",
    "\n",
    "> 8.14. (a) Would you expect an n-point Newton-\n",
    "Cotes quadrature rule to work well for integrating\n",
    "Runge’s function, $\\int_{-1}^1 (1 + 25x^2)^{-1} dx$, if n is very −1\n",
    "large? Why? (b) Would you expect an n-point Clenshaw-\n",
    "Curtis quadrature rule to work well for integrating\n",
    "Runge’s function, $\\int_{-1}^1 (1 + 25x^2)^{-1} dx$, if n is very −1\n",
    "large? Why?\n",
    "\n",
    "Runge's function is continuous on the interval $[-1, 1]$, symmetric about $x=0$, and asymptotically approaches $y=0$ as $x \\rightarrow \\pm \\infty$.\n",
    "\n",
    "(a) Using Newton-Cotes for large number of equally spaced nodes may incur unwanted oscillations due to high degree polynomial.  Runge's function happens to be the canonical example for this behavior.\n",
    "\n",
    "(b) Clenshaw-Curtis would be more accurate than Newton-Cotes: Chebyshev points distribute the error more evenly, especially at the extrema."
   ]
  },
  {
   "cell_type": "markdown",
   "metadata": {},
   "source": [
    "> 8.15. (a) What is the degree of Simpson’s rule for numerical quadrature? (b) What is the degree of an n-point Gaussian quadrature rule?\n",
    "\n",
    "(a) Simpson's rule is Newton-Cotes rule with $n=3$ and is an odd function, hence degree is 3 aka cubic.\n",
    "\n",
    "(b) Degree of n-point Gaussian quadrature rule is $2n-1$."
   ]
  },
  {
   "cell_type": "markdown",
   "metadata": {},
   "source": [
    "> 8.16. Newton-Cotes and Gaussian quadrature rules are both based on polynomial interpolation. (a) What specific property characterizes a Newton-Cotes rule for a given number of nodes?\n",
    "(b)What specific property characterizes a Gaussian quadrature rule for a given number of nodes?\n",
    "\n",
    "(a) Newton-Cotes rules have equally spaced points along the interval.\n",
    "\n",
    "(b) Gaussian quadrature rules have both the nodes and the weights to maximize the degree of the resulting rule. "
   ]
  },
  {
   "cell_type": "markdown",
   "metadata": {},
   "source": [
    "> 8.17. (a) Explain how the midpoint rule, which is based on interpolation by a polynomial of de- gree zero, can nevertheless integrate polynomials of degree one exactly.\n",
    "(b) Is the midpoint rule a Gaussian quadrature rule? Explain your answer.\n",
    "\n",
    "(a) The midpoint rule is an odd function and as a result the positive and negative errors cancel.\n",
    "\n",
    "(b) The midpoint rule could be a Gaussian quadrature rule because the degree is matches, but not sure. "
   ]
  },
  {
   "cell_type": "markdown",
   "metadata": {},
   "source": [
    "> 8.19. Why is it important for all of the weights\n",
    "of a quadrature rule to be nonnegative?\n",
    "\n",
    "Stability.\n",
    "\n",
    "The condition number of the quadrature rule is the sum of the absolute value of the weights.  If the weights are nonnegative, then the sum of the absolute value of the weights is the same as the length of the integration interval $b-a$ (good).  If some weights are negative, then the absolute condition number can be larger than the integration interval and thus the quadrature rule can be unstable."
   ]
  },
  {
   "cell_type": "markdown",
   "metadata": {},
   "source": [
    "> 8.21. What is the degree of each of the following types of numerical quadrature rules?\n",
    "(a) An n-point Newton-Cotes rule, where n is odd (b) An n-point Newton-Cotes rule, where n is even (c) An n-point Gaussian rule\n",
    "(d) What accounts for the difference between the answers to parts a and b ?\n",
    "(e) What accounts for the difference between the answers to parts b and c?\n",
    "\n",
    "(a) Degree is n.\n",
    "\n",
    "(b) Degree is n-1.\n",
    "\n",
    "(c) 2n-1\n",
    "\n",
    "(d) Newton-Cotes rules for odd functions have degree n and for even functions have degree n-1.\n",
    "\n",
    "(e) The nodes and weights used in Gaussian quadrature are chosen to maximize the degree."
   ]
  },
  {
   "cell_type": "markdown",
   "metadata": {},
   "source": [
    "> 8.22. For each of the following properties, state which type of quadrature, Newton-Cotes or Gaussian, more accurately fits the description:\n",
    "(a) Easier to compute nodes and weights.\n(b) Easier to apply for a general interval [a,b].\n(c) More accurate for same number of nodes.\n",
    "(d) has maximal degree of the number of nodes.\n(e) Nodes easy to resuse as order of rules changes.\n\n",
    "(a) Newton-Cotes\n(b) Newton-Cotes\n(c) Gaussian\n(d) Gaussian\n(e) Newton-Cotes.",
    "\n",
    "The n-point Gaussian quadrature rule corresponds to the zeros of an orthogonal polynomial."
   ]
  },
  {
   "cell_type": "markdown",
   "metadata": {},
   "source": [
    "> 8.23. What is the relationship between Gaussian quadrature and orthogonal polynomials?\n",
    "\n",
    "The n-point Gaussian quadrature rule corresponds to the zeros of an orthogonal polynomial."
   ]
  },
   {
   "cell_type": "markdown",
   "metadata": {},
   "source": [
    "> 8.24. (a) What does it mean for a sequence of quadrature rules to be progressive?\n(b) Why is this property important?\n",
    "\n",
    "(a) It means that the nodes of rules can be reused for subsequent rules.\n(b) This is important because it minimizes the computation required to evaluate an integrand by reusing rules from previous computation when evaluating the function at new points."
   ]
  },
  {
   "cell_type": "markdown",
   "metadata": {},
   "source": [
    "> 8.25. (a) What is the advantage of using a Gauss-Kronrod pair of quadrature rules, such as G7 and K15, compared with using two Gaussian rules, such as G7 and G15, to obtain an approxi- mate integral with error estimate?\n",
    "(b) How many evaluations of the integrand func- tion are required to evaluate both of the rules G7 and K15 in a given interval?\n",
    "\n",
    "(a) In general two Gaussian rules will have at most 1 node in commmon.  The Gauss-Kronrod pair is formed such that all of the nodes from the smaller Gaussian quadrature rule are reused in the larger Kronrod rule.  There are 2 benefits:\n",
    "1. Fewer evaluations of the integral are required aka **progressive**.\n",
    "2. Use the difference between the Gaussian quadrature and Kronrod rule as an error estimate.\n",
    "\n",
    "(b) There are 7 + (15-7) = 15 evaluations required for a G7 and K15 pair.  Compare this to 7 + 15 = 22 were the pair of rules not progressive."
   ]
  },
  {
   "cell_type": "markdown",
   "metadata": {},
   "source": [
    "$\\bigtriangledown$\n",
    "\n",
    "> 8.27. (a) What is a composite quadrature rule?\n",
    "(b) Why is a composite quadrature rule preferable to a simple quadrature rule for achieving high ac- curacy in numerically computing a definite inte- gral on a given interval?\n",
    "(c) In using the composite trapezoid quadrature rule to approximate a definite integral on an in- terval [a, b], by what factor is the overall error re- duced if the mesh size (i.e., subinterval length) h is halved?\n",
    "\n",
    "(a) A composite quadrature rule is equivalent to piecewise interpolation for quadrature.  The method subdivides original interval $[a, b]$  into $k$ subintervals of length $h=(b-a)/k$ and applies simple quadrature rule in each subinterval.\n",
    "\n",
    "(b) Like interpolation, quadrature using polynomials of large degree has the potential to introduce oscillations that may bear no relation to the data to be fit.\n",
    "\n",
    "(c) Halving the subinterval using the composite trapezoid rule reduces the error by a factor of about 1/8."
   ]
  },
  {
   "cell_type": "markdown",
   "metadata": {},
   "source": [
    "> 8.29. What is the most efficient way to use an adaptive quadrature routine for computing a defi- nite integral whose integrand has a known discon- tinuity within the interval of integration?\n",
    "\n",
    "Split the interval in two at the point of the discontinuity and separately apply the adaptive quadrature routine to each subinterval."
   ]
  },
  {
   "cell_type": "markdown",
   "metadata": {},
   "source": [
    "> 8.31. (a) How might one use a standard quadra- ture routine, designed for integrating over a fi- nite interval, to integrate a function over an un- bounded interval?\n",
    "(b) What precautions would need to be taken to ensure a good result?\n",
    "\n",
    "(a) Replace any infinite limit of integration by a finite value where the omitted tail(s) contribute a negligible amount to the definite integral.\n",
    "\n",
    "(b) If adaptive quadrature is used, then the remaining untruncated portion of the function should be more heavily sampled in areas away from the limits of integration.  "
   ]
  },
  {
   "cell_type": "markdown",
   "metadata": {},
   "source": [
    "> 8.35. Explain why integral equations of the first kind with smooth kernels are always ill- conditioned.\n",
    "\n",
    "From the book:\n",
    "> The rea- son for this sensitivity is that integration is a smoothing process, so its inverse (i.e., determining the integrand from the integral) is just the opposite. Integrating an arbitrary function u against a smooth kernel K dampens any high-frequency oscil- lation, so solving for u tends to introduce high-frequency oscillation in the result. Thus, integral equations of the first kind with smooth kernels are always ill-conditioned."
   ]
  },
  {
   "cell_type": "markdown",
   "metadata": {},
   "source": [
    "> 8.43. Briefly describe the basic idea of automatic differentiation. What basic result from calculus does it depend heavily on?\n",
    "\n",
    "Chain rule.  Automatic differentiation computes the derivative as the composite of simple functions step-by-step at the time the function itself is being computed."
   ]
  }
 ],
 "metadata": {
  "kernelspec": {
   "display_name": "Python 3",
   "language": "python",
   "name": "python3"
  },
  "language_info": {
   "codemirror_mode": {
    "name": "ipython",
    "version": 3
   },
   "file_extension": ".py",
   "mimetype": "text/x-python",
   "name": "python",
   "nbconvert_exporter": "python",
   "pygments_lexer": "ipython3",
   "version": "3.6.9"
  }
 },
 "nbformat": 4,
 "nbformat_minor": 2
}
